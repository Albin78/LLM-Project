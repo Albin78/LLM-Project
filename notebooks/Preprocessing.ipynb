{
 "cells": [
  {
   "cell_type": "code",
   "execution_count": null,
   "metadata": {
    "execution": {
     "iopub.execute_input": "2025-08-06T08:40:39.207840Z",
     "iopub.status.busy": "2025-08-06T08:40:39.207510Z",
     "iopub.status.idle": "2025-08-06T08:40:39.215300Z",
     "shell.execute_reply": "2025-08-06T08:40:39.214355Z",
     "shell.execute_reply.started": "2025-08-06T08:40:39.207812Z"
    },
    "trusted": true
   },
   "outputs": [],
   "source": [
    "import torch\n",
    "device = torch.device('cuda' if torch.cuda.is_available() else 'cpu')\n",
    "device"
   ]
  },
  {
   "cell_type": "code",
   "execution_count": null,
   "metadata": {
    "execution": {
     "iopub.execute_input": "2025-08-06T08:40:54.865087Z",
     "iopub.status.busy": "2025-08-06T08:40:54.864254Z",
     "iopub.status.idle": "2025-08-06T08:40:54.901282Z",
     "shell.execute_reply": "2025-08-06T08:40:54.900216Z",
     "shell.execute_reply.started": "2025-08-06T08:40:54.865059Z"
    },
    "trusted": true
   },
   "outputs": [],
   "source": [
    "from src.tokenizer.regex_tokenizer import RegexTokenizer\n",
    "tokenizer = RegexTokenizer()"
   ]
  },
  {
   "cell_type": "code",
   "execution_count": null,
   "metadata": {
    "execution": {
     "iopub.execute_input": "2025-08-06T08:40:55.179241Z",
     "iopub.status.busy": "2025-08-06T08:40:55.178311Z",
     "iopub.status.idle": "2025-08-06T08:40:55.221334Z",
     "shell.execute_reply": "2025-08-06T08:40:55.220468Z",
     "shell.execute_reply.started": "2025-08-06T08:40:55.179211Z"
    },
    "trusted": true
   },
   "outputs": [],
   "source": [
    "tokenizer.load(model_file='src\\tokenizer\\tokenizer_model.model')"
   ]
  },
  {
   "cell_type": "code",
   "execution_count": null,
   "metadata": {
    "execution": {
     "iopub.execute_input": "2025-08-06T08:40:57.067481Z",
     "iopub.status.busy": "2025-08-06T08:40:57.067173Z",
     "iopub.status.idle": "2025-08-06T08:40:57.072044Z",
     "shell.execute_reply": "2025-08-06T08:40:57.071176Z",
     "shell.execute_reply.started": "2025-08-06T08:40:57.067461Z"
    },
    "trusted": true
   },
   "outputs": [],
   "source": [
    "def get_vocab_size(tokenizer):\n",
    "    vocab = tokenizer.vocab\n",
    "    return len(vocab)"
   ]
  },
  {
   "cell_type": "code",
   "execution_count": null,
   "metadata": {
    "execution": {
     "iopub.execute_input": "2025-08-06T08:40:57.340570Z",
     "iopub.status.busy": "2025-08-06T08:40:57.340291Z",
     "iopub.status.idle": "2025-08-06T08:40:57.346338Z",
     "shell.execute_reply": "2025-08-06T08:40:57.345312Z",
     "shell.execute_reply.started": "2025-08-06T08:40:57.340551Z"
    },
    "trusted": true
   },
   "outputs": [],
   "source": [
    "get_vocab_size(tokenizer)"
   ]
  },
  {
   "cell_type": "code",
   "execution_count": null,
   "metadata": {
    "execution": {
     "iopub.execute_input": "2025-08-06T08:39:00.695861Z",
     "iopub.status.busy": "2025-08-06T08:39:00.695546Z",
     "iopub.status.idle": "2025-08-06T08:39:14.617531Z",
     "shell.execute_reply": "2025-08-06T08:39:14.616367Z",
     "shell.execute_reply.started": "2025-08-06T08:39:00.695836Z"
    },
    "trusted": true
   },
   "outputs": [],
   "source": [
    "from datasets import load_dataset\n",
    "\n",
    "ds = load_dataset(\"Malikeh1375/medical-question-answering-datasets\", \"chatdoctor_healthcaremagic\")\n",
    "ds"
   ]
  },
  {
   "cell_type": "code",
   "execution_count": null,
   "metadata": {
    "execution": {
     "iopub.execute_input": "2025-08-06T08:39:14.619611Z",
     "iopub.status.busy": "2025-08-06T08:39:14.619003Z",
     "iopub.status.idle": "2025-08-06T08:39:14.625198Z",
     "shell.execute_reply": "2025-08-06T08:39:14.624409Z",
     "shell.execute_reply.started": "2025-08-06T08:39:14.619581Z"
    },
    "trusted": true
   },
   "outputs": [],
   "source": [
    "dataset = ds['train']\n",
    "len(dataset)"
   ]
  },
  {
   "cell_type": "code",
   "execution_count": null,
   "metadata": {
    "execution": {
     "iopub.execute_input": "2025-08-06T08:39:14.626414Z",
     "iopub.status.busy": "2025-08-06T08:39:14.626089Z",
     "iopub.status.idle": "2025-08-06T08:39:18.941026Z",
     "shell.execute_reply": "2025-08-06T08:39:18.940099Z",
     "shell.execute_reply.started": "2025-08-06T08:39:14.626389Z"
    },
    "trusted": true
   },
   "outputs": [],
   "source": [
    "import pandas as pd\n",
    "\n",
    "df = pd.DataFrame(dataset)\n",
    "df = df.drop('instruction', axis=1)\n",
    "df"
   ]
  },
  {
   "cell_type": "code",
   "execution_count": null,
   "metadata": {
    "execution": {
     "iopub.execute_input": "2025-08-06T06:04:51.575506Z",
     "iopub.status.busy": "2025-08-06T06:04:51.574884Z",
     "iopub.status.idle": "2025-08-06T06:04:51.585586Z",
     "shell.execute_reply": "2025-08-06T06:04:51.584801Z",
     "shell.execute_reply.started": "2025-08-06T06:04:51.575480Z"
    },
    "trusted": true
   },
   "outputs": [],
   "source": [
    "df"
   ]
  },
  {
   "cell_type": "code",
   "execution_count": null,
   "metadata": {
    "execution": {
     "iopub.execute_input": "2025-08-06T08:39:21.979305Z",
     "iopub.status.busy": "2025-08-06T08:39:21.978775Z",
     "iopub.status.idle": "2025-08-06T08:39:22.629712Z",
     "shell.execute_reply": "2025-08-06T08:39:22.628666Z",
     "shell.execute_reply.started": "2025-08-06T08:39:21.979278Z"
    },
    "trusted": true
   },
   "outputs": [],
   "source": [
    "from tqdm import tqdm \n",
    "\n",
    "data = []\n",
    "rows = dataset[\"input\"]\n",
    "for row in tqdm(rows):\n",
    "    data.append(row)\n",
    "\n",
    "rows = dataset[\"output\"]\n",
    "for row in tqdm(rows):\n",
    "    data.append(row)\n",
    "\n",
    "print(len(\" \".join(data)))"
   ]
  },
  {
   "cell_type": "code",
   "execution_count": null,
   "metadata": {
    "execution": {
     "iopub.execute_input": "2025-08-06T08:39:24.823492Z",
     "iopub.status.busy": "2025-08-06T08:39:24.823086Z",
     "iopub.status.idle": "2025-08-06T08:39:25.185563Z",
     "shell.execute_reply": "2025-08-06T08:39:25.184683Z",
     "shell.execute_reply.started": "2025-08-06T08:39:24.823465Z"
    },
    "trusted": true
   },
   "outputs": [],
   "source": [
    "pd.set_option('display.max_colwidth', None)\n",
    "df.describe()"
   ]
  },
  {
   "cell_type": "code",
   "execution_count": null,
   "metadata": {
    "execution": {
     "iopub.execute_input": "2025-08-06T08:39:25.989500Z",
     "iopub.status.busy": "2025-08-06T08:39:25.988781Z",
     "iopub.status.idle": "2025-08-06T08:39:26.024804Z",
     "shell.execute_reply": "2025-08-06T08:39:26.023946Z",
     "shell.execute_reply.started": "2025-08-06T08:39:25.989468Z"
    },
    "trusted": true
   },
   "outputs": [],
   "source": [
    "df.isnull().sum()"
   ]
  },
  {
   "cell_type": "code",
   "execution_count": null,
   "metadata": {
    "execution": {
     "iopub.execute_input": "2025-08-06T08:40:03.640686Z",
     "iopub.status.busy": "2025-08-06T08:40:03.640370Z",
     "iopub.status.idle": "2025-08-06T08:40:03.999763Z",
     "shell.execute_reply": "2025-08-06T08:40:03.998879Z",
     "shell.execute_reply.started": "2025-08-06T08:40:03.640663Z"
    },
    "trusted": true
   },
   "outputs": [],
   "source": [
    "df.duplicated(keep=False).value_counts()"
   ]
  },
  {
   "cell_type": "code",
   "execution_count": null,
   "metadata": {
    "execution": {
     "iopub.execute_input": "2025-08-06T08:39:31.121213Z",
     "iopub.status.busy": "2025-08-06T08:39:31.120865Z",
     "iopub.status.idle": "2025-08-06T08:39:55.026592Z",
     "shell.execute_reply": "2025-08-06T08:39:55.025347Z",
     "shell.execute_reply.started": "2025-08-06T08:39:31.121171Z"
    },
    "trusted": true
   },
   "outputs": [],
   "source": [
    "from wordcloud import WordCloud\n",
    "import matplotlib.pyplot as plt\n",
    "txt = df['input']\n",
    "txt_ = ''.join(txt)\n",
    "word_cloud = WordCloud(width=800, height=400, background_color='white',\n",
    "                       max_words=200).generate(txt_)\n",
    "plt.imshow(word_cloud)"
   ]
  },
  {
   "cell_type": "code",
   "execution_count": null,
   "metadata": {
    "execution": {
     "iopub.execute_input": "2025-08-06T08:40:07.157046Z",
     "iopub.status.busy": "2025-08-06T08:40:07.156684Z",
     "iopub.status.idle": "2025-08-06T08:40:07.465673Z",
     "shell.execute_reply": "2025-08-06T08:40:07.464642Z",
     "shell.execute_reply.started": "2025-08-06T08:40:07.157018Z"
    },
    "trusted": true
   },
   "outputs": [],
   "source": [
    "with open(\"medical_dataset.txt\", \"w\") as f:\n",
    "    f.write(\" \".join(data))"
   ]
  },
  {
   "cell_type": "code",
   "execution_count": null,
   "metadata": {
    "execution": {
     "iopub.execute_input": "2025-08-06T08:40:11.325883Z",
     "iopub.status.busy": "2025-08-06T08:40:11.325562Z",
     "iopub.status.idle": "2025-08-06T08:40:11.334244Z",
     "shell.execute_reply": "2025-08-06T08:40:11.333176Z",
     "shell.execute_reply.started": "2025-08-06T08:40:11.325857Z"
    },
    "trusted": true
   },
   "outputs": [],
   "source": [
    "with open(\"datasets\\medical_dataset.txt\", \"r\") as f:\n",
    "    num_char_to_read = 3_000_000\n",
    "    text_sequence = f.read(num_char_to_read)\n",
    "\n",
    "len(text_sequence)"
   ]
  },
  {
   "cell_type": "code",
   "execution_count": null,
   "metadata": {
    "execution": {
     "iopub.execute_input": "2025-08-05T04:59:59.178016Z",
     "iopub.status.busy": "2025-08-05T04:59:59.177428Z",
     "iopub.status.idle": "2025-08-05T04:59:59.183529Z",
     "shell.execute_reply": "2025-08-05T04:59:59.182532Z",
     "shell.execute_reply.started": "2025-08-05T04:59:59.177989Z"
    },
    "trusted": true
   },
   "outputs": [],
   "source": [
    "import re\n",
    "def clean_text(text):\n",
    "    return re.sub(r'[\\\\]+', \"\", text).strip()"
   ]
  },
  {
   "cell_type": "code",
   "execution_count": null,
   "metadata": {
    "execution": {
     "iopub.execute_input": "2025-08-04T10:22:46.946580Z",
     "iopub.status.busy": "2025-08-04T10:22:46.946047Z",
     "iopub.status.idle": "2025-08-04T10:23:00.401302Z",
     "shell.execute_reply": "2025-08-04T10:23:00.400527Z",
     "shell.execute_reply.started": "2025-08-04T10:22:46.946559Z"
    },
    "trusted": true
   },
   "outputs": [],
   "source": [
    "text = \"\"\n",
    "    \n",
    "for _, row in df.iterrows():\n",
    "    text += f\"<|startoftext|><|User|>{clean_text(row['input'])}\\n\"\n",
    "    text += f\"<|Assistant|>{clean_text(row['output'])}<|endoftext|>\\n\"\n",
    "len(text)"
   ]
  },
  {
   "cell_type": "code",
   "execution_count": null,
   "metadata": {
    "execution": {
     "iopub.execute_input": "2025-08-06T08:41:04.642528Z",
     "iopub.status.busy": "2025-08-06T08:41:04.642220Z",
     "iopub.status.idle": "2025-08-06T08:41:04.651227Z",
     "shell.execute_reply": "2025-08-06T08:41:04.650097Z",
     "shell.execute_reply.started": "2025-08-06T08:41:04.642507Z"
    },
    "trusted": true
   },
   "outputs": [],
   "source": [
    "tokenizer.encode('<|startoftext|>Thanks for your question on Chat Doctor', allowed_special='all')"
   ]
  },
  {
   "cell_type": "code",
   "execution_count": null,
   "metadata": {
    "execution": {
     "iopub.execute_input": "2025-08-06T08:41:12.477465Z",
     "iopub.status.busy": "2025-08-06T08:41:12.477159Z",
     "iopub.status.idle": "2025-08-06T08:41:12.489217Z",
     "shell.execute_reply": "2025-08-06T08:41:12.488174Z",
     "shell.execute_reply.started": "2025-08-06T08:41:12.477444Z"
    },
    "trusted": true
   },
   "outputs": [],
   "source": [
    "pd.reset_option('display.max_colwidth', None)\n",
    "df"
   ]
  },
  {
   "cell_type": "code",
   "execution_count": null,
   "metadata": {
    "execution": {
     "iopub.execute_input": "2025-08-06T08:41:15.273779Z",
     "iopub.status.busy": "2025-08-06T08:41:15.272796Z",
     "iopub.status.idle": "2025-08-06T08:46:17.735674Z",
     "shell.execute_reply": "2025-08-06T08:46:17.734871Z",
     "shell.execute_reply.started": "2025-08-06T08:41:15.273745Z"
    },
    "trusted": true
   },
   "outputs": [],
   "source": [
    "encoded_text_sequence = []\n",
    "batch_size = 3_000_000\n",
    "with open(\"/kaggle/working/medical_dataset.txt\", \"r\") as f:\n",
    "    \n",
    "    while True:\n",
    "        chunk = f.read(batch_size)\n",
    "        if not chunk:\n",
    "            break \n",
    "\n",
    "        batch_tokens = tokenizer.encode(chunk)\n",
    "        encoded_text_sequence.extend(batch_tokens)\n",
    "        print(f\"Processed {len(encoded_text_sequence)} tokens so far\")\n",
    "\n",
    "print(f\"Total Tokens: {len(encoded_text_sequence)}\")"
   ]
  },
  {
   "cell_type": "code",
   "execution_count": null,
   "metadata": {
    "trusted": true
   },
   "outputs": [],
   "source": []
  },
  {
   "cell_type": "markdown",
   "metadata": {},
   "source": [
    "#### Removing persona identifiers and senstitive info"
   ]
  },
  {
   "cell_type": "code",
   "execution_count": null,
   "metadata": {
    "execution": {
     "iopub.execute_input": "2025-08-06T08:46:24.238675Z",
     "iopub.status.busy": "2025-08-06T08:46:24.238365Z",
     "iopub.status.idle": "2025-08-06T08:46:24.984487Z",
     "shell.execute_reply": "2025-08-06T08:46:24.983463Z",
     "shell.execute_reply.started": "2025-08-06T08:46:24.238652Z"
    },
    "trusted": true
   },
   "outputs": [],
   "source": [
    "import spacy\n",
    "nlp = spacy.load(\"en_core_web_sm\")"
   ]
  },
  {
   "cell_type": "code",
   "execution_count": null,
   "metadata": {
    "execution": {
     "iopub.execute_input": "2025-08-06T08:46:30.778861Z",
     "iopub.status.busy": "2025-08-06T08:46:30.778557Z",
     "iopub.status.idle": "2025-08-06T08:46:30.783871Z",
     "shell.execute_reply": "2025-08-06T08:46:30.783044Z",
     "shell.execute_reply.started": "2025-08-06T08:46:30.778839Z"
    },
    "trusted": true
   },
   "outputs": [],
   "source": [
    "def remove_person_identifiers(text):\n",
    "\n",
    "    doc = nlp(text)\n",
    "    raw_text = text\n",
    "\n",
    "    for ent in doc.ents:\n",
    "        if ent.label_ == \"PERSON\":\n",
    "            raw_text = raw_text.replace(ent.text, \"\")\n",
    "\n",
    "    return raw_text"
   ]
  },
  {
   "cell_type": "code",
   "execution_count": null,
   "metadata": {
    "execution": {
     "iopub.execute_input": "2025-08-06T08:46:32.937917Z",
     "iopub.status.busy": "2025-08-06T08:46:32.937637Z",
     "iopub.status.idle": "2025-08-06T08:46:32.942680Z",
     "shell.execute_reply": "2025-08-06T08:46:32.941764Z",
     "shell.execute_reply.started": "2025-08-06T08:46:32.937897Z"
    },
    "trusted": true
   },
   "outputs": [],
   "source": [
    "def remove_sensitive_info(text):\n",
    "\n",
    "    text = re.sub(r'\\S+@\\S+', '', text)\n",
    "    text = re.sub(r'\\b\\d{10}\\b', '', text)\n",
    "    text = re.sub(r'\\b\\d{1,2}/\\d{1,2}/\\d{2,4}\\b', '', text)\n",
    "\n",
    "    return text"
   ]
  },
  {
   "cell_type": "code",
   "execution_count": null,
   "metadata": {},
   "outputs": [],
   "source": []
  },
  {
   "cell_type": "markdown",
   "metadata": {},
   "source": [
    "#### Creating conversation pair"
   ]
  },
  {
   "cell_type": "code",
   "execution_count": null,
   "metadata": {
    "execution": {
     "iopub.execute_input": "2025-08-06T08:46:36.279410Z",
     "iopub.status.busy": "2025-08-06T08:46:36.278569Z",
     "iopub.status.idle": "2025-08-06T08:46:36.285695Z",
     "shell.execute_reply": "2025-08-06T08:46:36.284574Z",
     "shell.execute_reply.started": "2025-08-06T08:46:36.279383Z"
    },
    "trusted": true
   },
   "outputs": [],
   "source": [
    "from typing import List, Dict\n",
    "import re\n",
    "def conversation(raw_conv: pd.DataFrame) -> List[Dict[str, str]]:\n",
    "\n",
    "    conversations = []\n",
    "    for _, row in raw_conv.iterrows():\n",
    "        \n",
    "        user = str(row[\"input\"]).replace('/', '').strip()\n",
    "        user = remove_person_identifiers(user)\n",
    "        user = remove_sensitive_info(user)\n",
    "        \n",
    "        assist = str(row[\"output\"]).replace('/', '').strip()\n",
    "        assist = remove_person_identifiers(assist)\n",
    "        assist = remove_sensitive_info(assist)\n",
    "        \n",
    "        if user and assist:\n",
    "            conversations.append({\n",
    "                \"user\": user,\n",
    "                \"assistant\": assist\n",
    "            })\n",
    "\n",
    "    return conversations"
   ]
  },
  {
   "cell_type": "code",
   "execution_count": null,
   "metadata": {
    "execution": {
     "iopub.execute_input": "2025-08-06T08:46:41.165864Z",
     "iopub.status.busy": "2025-08-06T08:46:41.165562Z",
     "iopub.status.idle": "2025-08-06T10:01:24.486457Z",
     "shell.execute_reply": "2025-08-06T10:01:24.485182Z",
     "shell.execute_reply.started": "2025-08-06T08:46:41.165842Z"
    },
    "trusted": true
   },
   "outputs": [],
   "source": [
    "conversations = conversation(df)\n",
    "print(len(conversations))"
   ]
  },
  {
   "cell_type": "code",
   "execution_count": null,
   "metadata": {
    "execution": {
     "iopub.execute_input": "2025-08-06T10:02:48.293193Z",
     "iopub.status.busy": "2025-08-06T10:02:48.292794Z",
     "iopub.status.idle": "2025-08-06T10:02:48.298554Z",
     "shell.execute_reply": "2025-08-06T10:02:48.297475Z",
     "shell.execute_reply.started": "2025-08-06T10:02:48.293166Z"
    },
    "trusted": true
   },
   "outputs": [],
   "source": [
    "print(conversations[90])"
   ]
  },
  {
   "cell_type": "code",
   "execution_count": null,
   "metadata": {
    "execution": {
     "iopub.execute_input": "2025-08-06T10:02:53.028231Z",
     "iopub.status.busy": "2025-08-06T10:02:53.027898Z",
     "iopub.status.idle": "2025-08-06T10:02:53.033780Z",
     "shell.execute_reply": "2025-08-06T10:02:53.032791Z",
     "shell.execute_reply.started": "2025-08-06T10:02:53.028207Z"
    },
    "trusted": true
   },
   "outputs": [],
   "source": [
    "def conv_format(conversation: list[dict]):\n",
    "\n",
    "    formatted_data = []\n",
    "    \n",
    "    for pair in conversation:\n",
    "        try:\n",
    "            user_text = pair.get(\"user\").strip()\n",
    "            assist_text = pair.get(\"assistant\").strip()\n",
    "            \n",
    "            formatted = (f\"<|startoftext|><|User|>{user_text}\\n\"\n",
    "                         f\"<|Assistant|>{assist_text}<|endoftext|>\")\n",
    "            formatted_data.append(formatted)\n",
    "            \n",
    "        except Exception as e:\n",
    "            print(f'Skipping due to error: {e}')\n",
    "\n",
    "    return formatted_data"
   ]
  },
  {
   "cell_type": "code",
   "execution_count": null,
   "metadata": {
    "execution": {
     "iopub.execute_input": "2025-08-06T10:02:54.213070Z",
     "iopub.status.busy": "2025-08-06T10:02:54.212729Z",
     "iopub.status.idle": "2025-08-06T10:02:54.400304Z",
     "shell.execute_reply": "2025-08-06T10:02:54.399388Z",
     "shell.execute_reply.started": "2025-08-06T10:02:54.213045Z"
    },
    "trusted": true
   },
   "outputs": [],
   "source": [
    "conversation_format = conv_format(conversations)\n",
    "print(len(conversation_format))"
   ]
  },
  {
   "cell_type": "code",
   "execution_count": null,
   "metadata": {
    "execution": {
     "iopub.execute_input": "2025-08-06T10:25:07.300459Z",
     "iopub.status.busy": "2025-08-06T10:25:07.300098Z",
     "iopub.status.idle": "2025-08-06T10:25:07.305276Z",
     "shell.execute_reply": "2025-08-06T10:25:07.304377Z",
     "shell.execute_reply.started": "2025-08-06T10:25:07.300438Z"
    },
    "trusted": true
   },
   "outputs": [],
   "source": [
    "print(conversation_format[-1])"
   ]
  },
  {
   "cell_type": "markdown",
   "metadata": {},
   "source": [
    "## Encoding the dataset"
   ]
  },
  {
   "cell_type": "code",
   "execution_count": null,
   "metadata": {
    "execution": {
     "iopub.execute_input": "2025-08-06T10:03:05.068396Z",
     "iopub.status.busy": "2025-08-06T10:03:05.068065Z",
     "iopub.status.idle": "2025-08-06T10:03:06.883977Z",
     "shell.execute_reply": "2025-08-06T10:03:06.883155Z",
     "shell.execute_reply.started": "2025-08-06T10:03:05.068371Z"
    },
    "trusted": true
   },
   "outputs": [],
   "source": [
    "import numpy as np\n",
    "\n",
    "np.save(\"encoded_dataset.npy\",\n",
    "       np.array(encoded_text_sequence, dtype=np.int64))\n"
   ]
  },
  {
   "cell_type": "markdown",
   "metadata": {},
   "source": [
    "#### Saving dataset in formatted manner for pretraining"
   ]
  },
  {
   "cell_type": "code",
   "execution_count": null,
   "metadata": {
    "execution": {
     "iopub.execute_input": "2025-08-06T10:27:30.972884Z",
     "iopub.status.busy": "2025-08-06T10:27:30.972568Z",
     "iopub.status.idle": "2025-08-06T10:27:32.983036Z",
     "shell.execute_reply": "2025-08-06T10:27:32.982098Z",
     "shell.execute_reply.started": "2025-08-06T10:27:30.972861Z"
    },
    "trusted": true
   },
   "outputs": [],
   "source": [
    "import json\n",
    "with open(\"formmated_dataset.jsonl\", \"w\", encoding=\"utf-8\") as f:\n",
    "    for item in conversation_format:\n",
    "        f.write(json.dumps({\"text\": item}, ensure_ascii=False) + '\\n')"
   ]
  },
  {
   "cell_type": "code",
   "execution_count": null,
   "metadata": {
    "trusted": true
   },
   "outputs": [],
   "source": [
    "encoded_text_sequence = []\n",
    "batch_size = 3_000_000\n",
    "with open(\"datasets\\formmated_dataset.jsonl\", \"r\") as f:\n",
    "    \n",
    "    while True:\n",
    "        chunk = f.read(batch_size)\n",
    "        if not chunk:\n",
    "            break \n",
    "\n",
    "        batch_tokens = tokenizer.encode(chunk)\n",
    "        encoded_text_sequence.extend(batch_tokens)\n",
    "        print(f\"Processed {len(encoded_text_sequence)} tokens so far\")\n",
    "\n",
    "print(f\"Total Tokens: {len(encoded_text_sequence)}\")"
   ]
  }
 ],
 "metadata": {
  "kaggle": {
   "accelerator": "none",
   "dataSources": [
    {
     "datasetId": 8021772,
     "sourceId": 12693249,
     "sourceType": "datasetVersion"
    },
    {
     "datasetId": 8021824,
     "sourceId": 12693318,
     "sourceType": "datasetVersion"
    },
    {
     "isSourceIdPinned": false,
     "modelId": 407528,
     "modelInstanceId": 388595,
     "sourceId": 487224,
     "sourceType": "modelInstanceVersion"
    },
    {
     "isSourceIdPinned": false,
     "modelId": 415011,
     "modelInstanceId": 396533,
     "sourceId": 499195,
     "sourceType": "modelInstanceVersion"
    },
    {
     "isSourceIdPinned": false,
     "modelId": 421587,
     "modelInstanceId": 403661,
     "sourceId": 508915,
     "sourceType": "modelInstanceVersion"
    },
    {
     "isSourceIdPinned": false,
     "modelId": 421626,
     "modelInstanceId": 403701,
     "sourceId": 508959,
     "sourceType": "modelInstanceVersion"
    }
   ],
   "dockerImageVersionId": 31040,
   "isGpuEnabled": false,
   "isInternetEnabled": true,
   "language": "python",
   "sourceType": "notebook"
  },
  "kernelspec": {
   "display_name": ".venv",
   "language": "python",
   "name": "python3"
  },
  "language_info": {
   "codemirror_mode": {
    "name": "ipython",
    "version": 3
   },
   "file_extension": ".py",
   "mimetype": "text/x-python",
   "name": "python",
   "nbconvert_exporter": "python",
   "pygments_lexer": "ipython3",
   "version": "3.12.11"
  }
 },
 "nbformat": 4,
 "nbformat_minor": 4
}
